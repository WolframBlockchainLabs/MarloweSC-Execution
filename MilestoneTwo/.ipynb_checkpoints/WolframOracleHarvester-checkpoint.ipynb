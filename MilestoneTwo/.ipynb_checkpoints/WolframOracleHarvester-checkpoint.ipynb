{
 "cells": [
  {
   "cell_type": "markdown",
   "id": "3d84c45b",
   "metadata": {},
   "source": [
    "# Wolfram Marlowe Smart Contract Execution - Milestone 2\n",
    "\n",
    "#### Proof of completion for the Project Catalyst proposal 1100291\n",
    "\n",
    "### Index\n",
    "\n",
    "1. [Executive summary](#executiveSummary)<br>\n",
    "2. [Oracle contract and user interaction](#oracleContract)<br>\n",
    "      2.1 [Transaction 1: Oracle deployment](#deploymentTransaction)<br>\n",
    "3. [Service architecture](#serviceArchitecture)<br>\n",
    "4. [Transaction harvester](#transactionHarvester)<br>\n",
    "    4.1 [Listener](#listener)<br>\n",
    "    4.2 [Filter](#filter)<br>\n",
    "    4.3 [Sink](#sink)<br>\n",
    "    4.4 [MongoDB collection](#mongoDb)<br>\n",
    "5. [Transaction execution](#transactionExecution)<br>\n",
    "    5.1 [File builder](#fileBuilder)<br>\n",
    "    5.2 [Transaction builder](#transactionBuilder)\n",
    "\n",
    "## 1. Executive summary  <a name=\"executiveSummary\"></a>\n",
    "\t\n",
    "This document showcases the functionality of the harvester service in monitoring the Oracle validator address and recovering information attached to it. It also demonstrates the effectiveness of the transaction builder system created to address the data requests collected.\n",
    "\n",
    "## 2. Oracle contract and user interaction <a name=\"oracleContract\"></a>\n",
    "\n",
    "For this demonstration, it is assumed that a Marlowe contract already exists, which will eventually require a choice to be performed by the Oracle Service. It is also assumed that the user knows the address and reference script of the Oracle validator. For this demonstration, the Oracle validator address is `addr_test1wrs08u8kuqwnse0ahjdjr9ffq20d9vycwy4ns8re2y8sangc8djyc` and the reference script is:  \n",
    "\n",
    "```json\n",
    "{\n",
    "    \"transactionID\": \"64546010fe2c9745a48087413a81bedd63e9b9c1c97914d6b39fb0690d812483\",\n",
    "    \"index\": 0\n",
    "}\n",
    "\n",
    "```\n",
    "\n",
    "To request the Oracle choice execution, the user must create a UTXO directed to the Oracle address, with the amount corresponding to the service fee and a datum with the following structure:\n",
    "\n",
    "```json\n",
    "oracleDatum = {\n",
    "       \"marloweContract\" :: TxId,\n",
    "       \"marloweIndex\" :: Integer,\n",
    "       \"transactionId\" :: TxId,\n",
    "       \"transactionIndex\" :: Integer,\n",
    "       \"choiceToSolve\" :: BuiltinByteString,\n",
    "       \"dataTag\" :: BuiltinByteString,\n",
    "       \"deadline\":: POSIXTime,\n",
    "       \"beneficiaryAfterDeadline\":: PubKeyHash\n",
    "}\n",
    "```\n",
    "This schema has been updated compared to the one shown in Milestone One. In this version, it is mandatory to include the main Marlowe contract identifier (`marloweContract` and `marloweIndex`) so the Oracle can create the appropriate parameters for the transaction. \n",
    "\n",
    "Other than that, there were no changes. `transactionId` and `transactionIndex` identify the UTXO that must be consumed to continue with the contract logic. `choiceToSolve` and `dataTag` specify the name and the information that must be retrieved by the Oracle. Finally, `deadline` and `beneficiaryAfterDeadline` are arguments for the timeout policy.\n",
    "\n",
    "The following cells show the deployment of a request to the Oracle.\n",
    "\n",
    "### 2.1 Transaction 1: Oracle updater deployment <a name=\"deploymentTransaction\"></a>\n",
    "\n",
    "#### 2.1.1 Oracle contract address and payment <a name=\"oracleContract\"></a>\n",
    "\n",
    "Store the Oracle contract address and specify how much ADA it will hold as payment for the service."
   ]
  },
  {
   "cell_type": "code",
   "execution_count": 37,
   "id": "fa0e694d",
   "metadata": {
    "scrolled": true
   },
   "outputs": [
    {
     "name": "stdout",
     "output_type": "stream",
     "text": [
      "ORACLE_ADDR = addr_test1wrs08u8kuqwnse0ahjdjr9ffq20d9vycwy4ns8re2y8sangc8djyc\n"
     ]
    }
   ],
   "source": [
    "ORACLE_VAL_ADDR=\"addr_test1wrs08u8kuqwnse0ahjdjr9ffq20d9vycwy4ns8re2y8sangc8djyc\"\n",
    "echo \"ORACLE_ADDR = $ORACLE_VAL_ADDR\""
   ]
  },
  {
   "cell_type": "code",
   "execution_count": 38,
   "id": "ad965d79",
   "metadata": {
    "scrolled": true
   },
   "outputs": [
    {
     "name": "stdout",
     "output_type": "stream",
     "text": [
      "ORACLE_PAYMENT=5000000\n"
     ]
    }
   ],
   "source": [
    "ORACLE_PAYMENT=$((5 * 1000000))\n",
    "echo \"ORACLE_PAYMENT=$ORACLE_PAYMENT\""
   ]
  },
  {
   "cell_type": "markdown",
   "id": "c2dca348",
   "metadata": {},
   "source": [
    "#### 2.1.2 Create \"oracle.datum\" file <a name=\"oracleDatum\"></a>"
   ]
  },
  {
   "cell_type": "code",
   "execution_count": 39,
   "id": "246a8fdd",
   "metadata": {
    "scrolled": true
   },
   "outputs": [
    {
     "name": "stdout",
     "output_type": "stream",
     "text": [
      "MRLW_ID=03ada6af2b4644d1c59f5fbfb899869f2a4fc8eea6381f6609c9ceeb7e9c6409\n",
      "MRLW_IDX=0\n"
     ]
    }
   ],
   "source": [
    "MRLW_ID=\"03ada6af2b4644d1c59f5fbfb899869f2a4fc8eea6381f6609c9ceeb7e9c6409\"\n",
    "MRLW_IDX=0\n",
    "echo \"MRLW_ID=$MRLW_ID\"\n",
    "echo \"MRLW_IDX=$MRLW_IDX\""
   ]
  },
  {
   "cell_type": "code",
   "execution_count": 40,
   "id": "7c504364",
   "metadata": {
    "scrolled": false
   },
   "outputs": [
    {
     "name": "stdout",
     "output_type": "stream",
     "text": [
      "TX_ID=cce4dda792104ab84bee1a68c799729bcaf634187994784e54a5f2055acf9c88\n",
      "TX_IDX=0\n",
      "ORACLE_DL=1724459986000\n"
     ]
    }
   ],
   "source": [
    "TX_ID=\"cce4dda792104ab84bee1a68c799729bcaf634187994784e54a5f2055acf9c88\" #tx to be solved\n",
    "TX_IDX=0    #index to be solved\n",
    "ORACLE_DL=$((1000 * $(date -d \"$(date -u) + 90 minutes\" +%s))) #deadline to apply choice before refund\n",
    "echo \"TX_ID=$TX_ID\"\n",
    "echo \"TX_IDX=$TX_IDX\"\n",
    "echo \"ORACLE_DL=$ORACLE_DL\""
   ]
  },
  {
   "cell_type": "code",
   "execution_count": 41,
   "id": "ea3c6f25",
   "metadata": {
    "scrolled": true
   },
   "outputs": [
    {
     "name": "stdout",
     "output_type": "stream",
     "text": [
      "{\"constructor\":0,\"fields\":[{\"constructor\":0,\"fields\":[{\"bytes\":\"03ada6af2b4644d1c59f5fbfb899869f2a4fc8eea6381f6609c9ceeb7e9c6409\"}]},{\"int\":0},{\"constructor\":0,\"fields\":[{\"bytes\":\"cce4dda792104ab84bee1a68c799729bcaf634187994784e54a5f2055acf9c88\"}]},{\"int\":0},{\"bytes\":\"6f7261636c6520696e707574\"},{\"bytes\":\"4254432F55534454\"},{\"int\":1724459986000},{\"bytes\":\"f1ca04a98e903273b9f3853b9888a1dc62a704ef0801f04b3e71538b\"}]}\n"
     ]
    }
   ],
   "source": [
    "yaml2json << EOI > wolframOracleUpdater.datum\n",
    "constructor: 0\n",
    "fields:\n",
    "- constructor: 0\n",
    "  fields:\n",
    "  - bytes: \"$MRLW_ID\"\n",
    "- int: $MRLW_IDX\n",
    "- constructor: 0\n",
    "  fields:\n",
    "  - bytes: \"$TX_ID\"\n",
    "- int: $TX_IDX\n",
    "- bytes: \"6f7261636c6520696e707574\" #oracle input\n",
    "- bytes: \"4254432F55534454\"         #BTC/USDT \n",
    "- int: $ORACLE_DL\n",
    "- bytes: \"f1ca04a98e903273b9f3853b9888a1dc62a704ef0801f04b3e71538b\"\n",
    "EOI\n",
    "cat wolframOracleUpdater.datum"
   ]
  },
  {
   "cell_type": "markdown",
   "id": "e9066467",
   "metadata": {},
   "source": [
    "#### 2.1.3 Build and send transaction <a name=\"oracleTransaction\"></a>\n",
    "\n",
    "Build and submit the transaction for creating the Oracle contract."
   ]
  },
  {
   "cell_type": "code",
   "execution_count": 42,
   "id": "47858857",
   "metadata": {},
   "outputs": [
    {
     "name": "stdout",
     "output_type": "stream",
     "text": [
      "0b17eed121c4168a7ded8c66520be823954eeb2f14e465185bb0fdc2f71c6a3e#0\n"
     ]
    }
   ],
   "source": [
    "ORACLE_INPUT=\"$(select_utxo $((5 * ADA)))\"\n",
    "echo $ORACLE_INPUT"
   ]
  },
  {
   "cell_type": "code",
   "execution_count": 43,
   "id": "1c2dc6e6",
   "metadata": {},
   "outputs": [
    {
     "name": "stdout",
     "output_type": "stream",
     "text": [
      "Estimated transaction fee: Lovelace 175269\n"
     ]
    }
   ],
   "source": [
    "cardano-cli transaction build \\\n",
    "  --babbage-era \\\n",
    "  --testnet-magic 1 \\\n",
    "  --tx-in \"$ORACLE_INPUT\" \\\n",
    "  --tx-out \"$ORACLE_VAL_ADDR+$ORACLE_PAYMENT\" \\\n",
    "    --tx-out-datum-embed-file wolframOracleUpdater.datum \\\n",
    "  --change-address $PAYMENT_ADDR \\\n",
    "  --out-file tx-3.unsigned"
   ]
  },
  {
   "cell_type": "code",
   "execution_count": 44,
   "id": "b7c4c73b",
   "metadata": {},
   "outputs": [],
   "source": [
    "cardano-cli transaction sign \\\n",
    "  --signing-key-file $PAYMENT_SKEY \\\n",
    "  --tx-body-file tx-3.unsigned \\\n",
    "  --out-file tx-3.signed"
   ]
  },
  {
   "cell_type": "code",
   "execution_count": 45,
   "id": "ba90baef",
   "metadata": {
    "scrolled": true
   },
   "outputs": [
    {
     "name": "stdout",
     "output_type": "stream",
     "text": [
      "TX_3 = e12e1bf1ca617ba547fae01df059c3e96cf9ac6265887c1d5c49797599a22234\n"
     ]
    }
   ],
   "source": [
    "TX_3=$(cardano-cli transaction txid --tx-file tx-3.signed)\n",
    "echo \"TX_3 = $TX_3\""
   ]
  },
  {
   "cell_type": "code",
   "execution_count": 46,
   "id": "9a9b7f31",
   "metadata": {},
   "outputs": [
    {
     "name": "stdout",
     "output_type": "stream",
     "text": [
      "Transaction successfully submitted.\n"
     ]
    }
   ],
   "source": [
    "cardano-cli transaction submit \\\n",
    "  --testnet-magic 1 \\\n",
    "  --tx-file tx-3.signed"
   ]
  },
  {
   "cell_type": "markdown",
   "id": "6539892f",
   "metadata": {},
   "source": [
    "The transaction has been added to the blockchain and can be observed at the following link."
   ]
  },
  {
   "cell_type": "code",
   "execution_count": 47,
   "id": "04757ca1",
   "metadata": {
    "scrolled": true
   },
   "outputs": [
    {
     "name": "stdout",
     "output_type": "stream",
     "text": [
      "https://preprod.cardanoscan.io/transaction/e12e1bf1ca617ba547fae01df059c3e96cf9ac6265887c1d5c49797599a22234?tab=summary\n"
     ]
    }
   ],
   "source": [
    "echo \"$CARDANO_SCAN_URL/transaction/$TX_3?tab=summary\""
   ]
  },
  {
   "cell_type": "markdown",
   "id": "b66e7da5",
   "metadata": {},
   "source": [
    "## 3. Service architecture <a name=\"serviceArchitecture\"></a>\n",
    "\n",
    "The principal components for the service are:\n",
    "\n",
    "* Oracle Transaction Listener: Real-time chain indexer\n",
    "* Oracle Transaction Filter: Indexer for the oracle validator address\n",
    "* Oracle Transaction Builder: Transaction creation component\n",
    "\n",
    "These backend relies on:\n",
    "\n",
    "* Cardano node: To connect to Cardano network\n",
    "* Marlowe Runtime Server: To discover information about Marlowe\n",
    "* Cryptocurrency Database: Based on the [Wolfram Price Feed Infrastructure](https://github.com/WolframBlockchainLabs/WolframPriceFeedInfrastructure/tree/main) (CCDB)\n",
    "* MongoDB Database: For persistent storage\n",
    "* Apache Kafka: Event streaming platform to facilitate communication between components \n",
    "\n",
    "The interactions are shown here:\n",
    "![architectureDiagram](./img/wolframHarvesterService.png)"
   ]
  },
  {
   "cell_type": "markdown",
   "id": "9fc25ed9",
   "metadata": {},
   "source": [
    "## 4. Transaction harvester <a name=\"transactionHarvester\"></a>\n",
    "\n",
    "### 4.1 Listener <a name=\"listener\"></a>\n",
    "This component is responsible for scanning the blockchain in real-time. Whenever a new block is found, its transactions are sent to a Kafka queue.\n",
    "\n",
    "![Logs for Listener](./img/listenerLogs.jpg)\n",
    "\n",
    "### 4.2 Filter <a name=\"filter\"></a>\n",
    "This component filters every transaction that contains the address of the Oracle validator as output and stores it in another Kafka queue. All other transactions are discarded.\n",
    "\n",
    "![Logs for Listener](./img/filterLogs.jpg)\n",
    "\n",
    "### 4.3 Sink <a name=\"sink\"></a>\n",
    "The sink component formats all the filtered transactions and writes them to a MongoDB instance.\n",
    "\n",
    "![Logs for Listener](./img/sinkLogs.jpg)\n",
    " \n",
    "### 4.4 MongoDB collection <a name=\"mongoDb\"></a>\n",
    "The relevant information for the transaction is stored in a database. The first field in the documents is `status`, which records the step of the process for each contract found and any failures that occurred. In addition to the status, the harvester creates the objects `request` and `response`. The `request` object contains data about the Oracle contract, while the `response`object holds information about how the service consumes it. The detailed schema is shown below.\n",
    "\n",
    "```json\n",
    "{\n",
    "    \"_id\": ObjectId(\"unique_identifier\"),\n",
    "    \"status\": number,\n",
    "    \"request\": {\n",
    "        \"blockHeight\": number,\n",
    "        \"blockHash\": string,\n",
    "        \"blockSlot\": number,\n",
    "        \"transactionId\": string,\n",
    "        \"outputIdx\": number,\n",
    "        \"value\": {\n",
    "            \"ada\":{\n",
    "                \"lovelace\": number\n",
    "             }\n",
    "        },\n",
    "        \"datumHash\": string,\n",
    "        \"datum\":{\n",
    "            \"marloweContract\": string,\n",
    "            \"marloweIndex\": number,\n",
    "            \"transactionId\": string,\n",
    "            \"transactionIndex\": number,\n",
    "            \"choiceToSolve\": string,\n",
    "            \"dataTag\": string,\n",
    "            \"deadline\": number,\n",
    "            \"beneficiaryAfterDeadline\": string,\n",
    "            \"targetDate\": date\n",
    "        },\n",
    "        \"datumType\": string,\n",
    "        \"invBefore\": date,\n",
    "        \"invHereafter\": date,\n",
    "        \"marloweValue\": {\n",
    "            \"ada\":{\n",
    "                \"lovelace\": number\n",
    "             }\n",
    "        }\n",
    "    },\n",
    "    \"response\":{\n",
    "        \"validityInterval\": array,\n",
    "        \"redeemers\": object ,\n",
    "        \"transactionId\": string,\n",
    "        \"inputs\":[\n",
    "            {\"transactionId\":string,\n",
    "            \"transactionIndex\":number},\n",
    "            {\"transactionId\":string,\n",
    "             \"transactionIndex\":number}\n",
    "        ] ,\n",
    "        \"outputs\":[\n",
    "            {\n",
    "             \"address\": string,\n",
    "             \"amount\":{\n",
    "                 \"ada\":{\n",
    "                     \"lovelace\": number\n",
    "                 }\n",
    "             }\n",
    "            },\n",
    "            {\n",
    "             \"address\": string,\n",
    "             \"amount\":{\n",
    "                 \"ada\":{\n",
    "                     \"lovelace\": number\n",
    "                 }\n",
    "             }\n",
    "            }\n",
    "        ],\n",
    "        \"blockHeight\": number,\n",
    "        \"blockHash\": string,\n",
    "        \"blockSlot\": number\n",
    "    }\n",
    "}\n",
    "\n",
    "```\n",
    "\n",
    "The status code can take the following values if no failure occurred\n",
    "* 0: Transaction detected and stored in DB\n",
    "* 1: Required files created\n",
    "* 2: Transaction submitted to the blockchain"
   ]
  },
  {
   "cell_type": "markdown",
   "id": "77b053bb",
   "metadata": {},
   "source": [
    "## 5. Oracle choice transaction <a name=\"transactionExecution\"></a>\n",
    "\n",
    "To solve the choice and calculate the next step of the Marlowe contract, the service interacts with Marlowe tools such as `marlowe-runtime-service` and `marlowe-cli`. \n",
    "\n",
    "### 5.1 File builder <a name=\"fileBuilder\"></a>\n",
    "\n",
    "This module builds all the files needed to move the Marlowe contract to its next state. \n",
    "\n",
    "First, it queries the `marlowe-runtime-server` for the current state of the contract and writes it in the file `tx-prev.marlowe`. From this file, the file builder recovers the datum used to create the current step of the contract and stores it.\n",
    "\n",
    "Before constructing the next step for the Marlowe contract, the file builder queries the [Wolfram Price Feed Infrastructure](https://github.com/WolframBlockchainLabs/WolframPriceFeedInfrastructure/tree/main) for the `dataTag` exchange rate specified in the datum. If the exchange rate exists, it is converted into an integer to be included in the choice input. Otherwise, an error code is recorded in the database.\n",
    "\n",
    "Finally, using the requested exchange rate and `tx-prev.marlowe`, the file builder uses `marlowe-cli` to create the file `tx-next.marlowe` which holds the new contract state. This file enables the Oracle to generate the redeemer needed to unlock the Marlowe UTXO input and the datum required for the Marlowe UTXO output.\n",
    "\n",
    "If no errors are found at any step, the status in the database is updated to 1.\n",
    "\n",
    "In summary, this process creates the following files to be used in the response transaction:\n",
    "* `marloweInput.datum`: Datum of the current Marlowe input\n",
    "* `marloweInput.redeemer`: Redeemer to unlock the Marlowe input, which includes the requested exchange rate\n",
    "* `marloweOutput.datum`: Datum for the Marlowe output\n",
    "* `wolframInput.datum`: Datum of the Oracle input\n",
    "* `wolframInput.redeemer`: Redeemer of the Oracle input"
   ]
  },
  {
   "cell_type": "markdown",
   "id": "d4f44a67",
   "metadata": {},
   "source": [
    "### 5.2 Transaction builder <a name=\"transactionBuilder\"></a>\n",
    "The transaction builder, written in Wolfram Language, retrieves all documents with status 1 from the database. For each document, it creates a transaction that advances the Marlowe contract state and redirects the payment to the Oracle wallet. The transaction is structured as follows:\n",
    "\n",
    "![contract flux](./img/contractFlux.jpg)\n",
    "\n",
    "If an error occurs, the status in the database is updated accordingly. Otherwise, relevant information about the execution of the contract is recorded with status code 2, as shown below.\n",
    "\n",
    "```json\n",
    "{\n",
    "  \"_id\": {\"$oid\": \"66c9170cd18b573fdc8882b9\"},\n",
    "  \"status\": 2,\n",
    "  \"request\": {\n",
    "    \"blockHeight\": 2620176,\n",
    "    \"blockHash\": \"e6dedf803e9a0c874918fd63e16d9791b0a5ba1395088a403e294374674c0132\",\n",
    "    \"blockSlot\": 68771415,\n",
    "    \"transactionId\": \"e12e1bf1ca617ba547fae01df059c3e96cf9ac6265887c1d5c49797599a22234\",\n",
    "    \"outputIdx\": 0,\n",
    "    \"value\": {\n",
    "      \"ada\": {\n",
    "        \"lovelace\": 5000000\n",
    "      }\n",
    "    },\n",
    "    \"datumHash\": \"8a832ec3f557d893ce230d5333b2d363d0ea3be0f1c1a58a3de1be8e608919cb\",\n",
    "    \"datum\": {\n",
    "      \"marloweContract\": \"03ada6af2b4644d1c59f5fbfb899869f2a4fc8eea6381f6609c9ceeb7e9c6409\",\n",
    "      \"marloweIndex\": 0,\n",
    "      \"transactionId\": \"cce4dda792104ab84bee1a68c799729bcaf634187994784e54a5f2055acf9c88\",\n",
    "      \"transactionIndex\": 0,\n",
    "      \"choiceToSolve\": \"oracle input\",\n",
    "      \"dataTag\": \"BTC/USDT\",\n",
    "      \"deadline\": {\n",
    "        \"$numberLong\": \"1724459986000\"\n",
    "      },\n",
    "      \"beneficiaryAfterDeadline\": \"f1ca04a98e903273b9f3853b9888a1dc62a704ef0801f04b3e71538b\",\n",
    "      \"targetDate\": \"2024-08-24T00:39:46.000Z\"\n",
    "    },\n",
    "    \"datumType\": \"embed\",\n",
    "    \"invBefore\": {\n",
    "      \"$date\": \"2024-08-23T23:18:23.294Z\"\n",
    "    },\n",
    "    \"invHereafter\": {\n",
    "      \"$date\": \"2024-08-23T23:28:23.294Z\"\n",
    "    },\n",
    "    \"marloweValue\": {\n",
    "      \"ada\": {\n",
    "        \"lovelace\": 28000000\n",
    "      }\n",
    "    }\n",
    "  },\n",
    "  \"response\": {\n",
    "    \"transactionId\": \"780e2b30dc53b1d7b6e12d3f35f4758e446f9a8da25871eb190c39d238038530\",\n",
    "    \"blockHash\": \"63819a78d3aec70bf72fe263a3f155fc2060c6e3c6a8498920589e9fb4004d62\",\n",
    "    \"blockHeight\": 2620213,\n",
    "    \"blockSlot\": 68772286,\n",
    "    \"inputs\": [\n",
    "      {\n",
    "        \"transactionId\": \"cce4dda792104ab84bee1a68c799729bcaf634187994784e54a5f2055acf9c88\",\n",
    "        \"transactionIndex\": 0\n",
    "      },\n",
    "      {\n",
    "        \"transactionId\": \"e12e1bf1ca617ba547fae01df059c3e96cf9ac6265887c1d5c49797599a22234\",\n",
    "        \"transactionIndex\": 0\n",
    "      }\n",
    "    ],\n",
    "    \"outputs\": [\n",
    "      {\n",
    "        \"address\": \"addr_test1wpsz02qpp3245nwkkzyg9wye7je3vlrwg5jqgufjyqkanpqef22lm\",\n",
    "        \"amount\": {\n",
    "          \"ada\": {\n",
    "            \"lovelace\": 28000000\n",
    "          }\n",
    "        }\n",
    "      },\n",
    "      {\n",
    "        \"address\": \"addr_test1vqj8urdyuxkyh95x3v0yhu4eftddu8zcc324gzw396c28vgcwyugr\",\n",
    "        \"amount\": {\n",
    "          \"ada\": {\n",
    "            \"lovelace\": 4435638\n",
    "          }\n",
    "        }\n",
    "      }\n",
    "    ],\n",
    "    \"reedemers\": {\n",
    "      \"for_choice_id\": {\n",
    "        \"choice_name\": \"oracle input\",\n",
    "        \"choice_owner\": {\n",
    "          \"address\": \"addr_test1vqj8urdyuxkyh95x3v0yhu4eftddu8zcc324gzw396c28vgcwyugr\"\n",
    "        }\n",
    "      },\n",
    "      \"input_that_chooses_num\": 64258\n",
    "    },\n",
    "    \"validityInterval\": [\n",
    "      68771903,\n",
    "      68772503\n",
    "    ]\n",
    "  }\n",
    "}\n",
    "```\n",
    "\n",
    "The transaction that responds to the request shown in [Transaction 1](#deploymentTransaction) can be observed at the link below:"
   ]
  },
  {
   "cell_type": "code",
   "execution_count": 5,
   "id": "46244e9f",
   "metadata": {
    "scrolled": true
   },
   "outputs": [
    {
     "name": "stdout",
     "output_type": "stream",
     "text": [
      "https://preprod.cardanoscan.io/transaction/780e2b30dc53b1d7b6e12d3f35f4758e446f9a8da25871eb190c39d238038530?tab=summary\n"
     ]
    }
   ],
   "source": [
    "TX_RESPONSE=\"780e2b30dc53b1d7b6e12d3f35f4758e446f9a8da25871eb190c39d238038530\"\n",
    "echo \"$CARDANO_SCAN_URL/transaction/$TX_RESPONSE?tab=summary\""
   ]
  }
 ],
 "metadata": {
  "kernelspec": {
   "display_name": "Bash with Marlowe Tools",
   "language": "bash",
   "name": "bash-minimal"
  },
  "language_info": {
   "codemirror_mode": "shell",
   "file_extension": ".sh",
   "mimetype": "text/x-sh",
   "name": "bash"
  }
 },
 "nbformat": 4,
 "nbformat_minor": 5
}
