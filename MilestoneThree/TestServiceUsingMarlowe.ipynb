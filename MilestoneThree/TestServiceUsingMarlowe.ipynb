{
 "cells": [
  {
   "cell_type": "markdown",
   "id": "ff97a7fe",
   "metadata": {},
   "source": [
    "# Wolfram Marlowe Smart Contract Execution - Milestone 3\n",
    "\n",
    "#### Proof of completion for the Project Catalyst proposal #1100291 \n",
    "\n",
    "### Index\n",
    "\n",
    "1. [Executive summary](#executiveSummary)<br>\n",
    "2. [Marlowe review](#marloweReview)<br>\n",
    "3. [Oracle constraints](#oracleConstraints)<br>\n",
    "4. [Demonstration case](#demonstrationCase)<br>\n",
    "5. [Transaction execution](#transactionExecution)<br>\n",
    "    5.1 [Initialization](#initialization)<br>\n",
    "    5.2 [Transaction 1: Marlowe Contract Creation](#transactionOne)<br>\n",
    "    5.3 [Transaction 2: Marlowe Deposit](#transactionTwo)<br>\n",
    "    5.4 [Transaction 3: Oracle Updater Deployment](#transactionThree)<br>\n",
    "    5.5 [Transaction 4: Oracle Transaction ](#transactionFour)<br>\n",
    "    5.6 [Transaction 5: Notify and Close Marlowe Contract ](#transactionFive)<br>\n",
    "\n",
    "\n",
    "## 1. Executive summary <a name=\"executiveSummary\"></a>\n",
    "\n",
    "The notebook shows the complete operation of the Wolfram Marlowe Smart Contract Execution components. The notebook presents a real use case and reviews both Marlowe and the Wolfram Oracle contract and the constraints imposed for its proper operation.\n",
    "\n",
    "## 2. Marlowe review <a name=\"marloweReview\"></a>\n",
    "\n",
    "### General ideas\n",
    "Marlowe is a domain specific language for financial applications. It simplifies the creation of smart contracts making it accessible to everyone. \n",
    "A Marlowe contract has the following features:\n",
    "\n",
    "* Finite state, no loops or recursion\n",
    "* Termination guaranteed\n",
    "* Limited lifetime\n",
    "* Assets locking while executing\n",
    "* No assets retention on close\n",
    "\n",
    "### Contract blocks\n",
    "\n",
    "Create a Marlowe contract is combine a set of smaller contract-like building blocks. The next sections review the blocks necessary to request information to the Wolfram Oracle. \n",
    "\n",
    "#### When\n",
    "The `when` block is a \"triggered by action\" construct. The structure `When [Case] Timeout Contract` allows the Marlowe contract wait for an input from outside the blockchain where `[Case]` is a sequence of transactions, `Timeout` is the time limit to perform actions from `[Case]` and `Contract` is the continuation in case `Timeout` is reached and no `[Case]` happened. `Case` is also called Input. Three inputs are possible:\n",
    "\n",
    "* `Deposit`: to add assets to the contract\n",
    "* `Notification`: to include boolean variables\n",
    "* `Choice`: to insert numerical information\n",
    "\n",
    "The Wolfram Oracle uses `Choice` to provide data to the contracts. For more information on other inputs, please refer to the [Marlowe Documentation](https://docs.marlowe.iohk.io/docs/introduction).\n",
    "\n",
    "![onlyWhen](./img/whenOnly.png)\n",
    "\n",
    "#### Choice\n",
    "This is the main interface for a Marlowe contract to acquire numerical information from the outside.  A Choice is identified by  a `choice name` and a `choice owner` while `choice bounds` limits the numbers that can be included. When executing this input, the choice is included in the redeemer for the Marlowe input. The transaction must be signed by the `choice owner`.  If the choice is successful, then the contract proceeds with the continuation stated. A choice transaction doesn't change assets balance in the contract.\n",
    "\n",
    "![onlyChoice](./img/choiceOnly.png)\n",
    "\n",
    "### Marlowe tools\n",
    "There are many options to design, test, deploy and interact with Marlowe contract. The most recommended are\n",
    "\n",
    "* [Marlowe playground](https://playground.marlowe-lang.org/#/blockly): GUI to design and test contracts\n",
    "* [Marlowe runtime](https://docs.marlowe.iohk.io/docs/developer-tools/runtime/marlowe-runtime): backend application to manage Marlowe contracts on Cardano, includes a REST-API\n",
    "* [marlowe-cli](https://github.com/input-output-hk/marlowe-cardano/tree/main/marlowe-cli): off-chain CLI tool to develop contracts\n",
    "\n",
    "## 3. Oracle constraints <a name=\"oracleConstraints\"></a>\n",
    "\n",
    "The Marlowe contract and the Oracle contract must fulfill the following requirements:\n",
    "\n",
    "### Marlowe contract\n",
    "When defining a Wolfram Oracle input in the Marlowe contract, follow these steps:\n",
    "\n",
    "* Instantiate a choice.\n",
    "\n",
    "* Specify the name of the choice.\n",
    "\n",
    "* Assign ownership to the Oracle Signing Address.\n",
    "\n",
    "* Set reasonable boundaries for the input.\n",
    "\n",
    "* Include an additional input to serve as the continuation of the choice.\n",
    "\n",
    "The last restriction ensures the Marlowe and Oracle contracts can run simultaneously, while the Marlowe validator prevents payouts in multi-contract transactions to avoid double satisfaction attacks.\n",
    "\n",
    "![choiceImage](./img/choiceImage.png)\n",
    "\n",
    "\n",
    "### Oracle contract\n",
    "\n",
    "When creating a request for the oracle service, the following steps are required:\n",
    "\n",
    "* Progress the Marlowe contract until the oracle input is needed.\n",
    "\n",
    "* Deploy a UTXO to the Oracle Contract Address, containing the following elements:\n",
    "\n",
    "    * Payment for the service.\n",
    "    \n",
    "    * A datum with the necessary structure.\n",
    "    \n",
    "    ```json\n",
    "    oracleDatum = {\n",
    "           \"marloweContract\" :: TxId,\n",
    "           \"marloweIndex\" :: Integer,\n",
    "           \"transactionId\" :: TxId,\n",
    "           \"transactionIndex\" :: Integer,\n",
    "           \"choiceToSolve\" :: BuiltinByteString,\n",
    "           \"dataTag\" :: BuiltinByteString,\n",
    "           \"deadline\":: POSIXTime,\n",
    "           \"beneficiaryAfterDeadline\":: PubKeyHash\n",
    "    }\n",
    "    ```\n",
    "\n",
    "### Oracle information\n",
    "To use the oracle through their steps, the user must have this information available \n",
    "\n",
    "* Oracle Signing Address: `addr_test1vqj8urdyuxkyh95x3v0yhu4eftddu8zcc324gzw396c28vgcwyugr`\n",
    "* Oracle Contract Address: `addr_test1wrs08u8kuqwnse0ahjdjr9ffq20d9vycwy4ns8re2y8sangc8djyc`\n",
    "* Oracle Contract Reference Script:\n",
    "\n",
    "```json\n",
    "{\n",
    "    \"transactionId\":\"64546010fe2c9745a48087413a81bedd63e9b9c1c97914d6b39fb0690d812483\",\n",
    "    \"index\":0\n",
    "}\n",
    "```\n",
    "\n",
    "The `Oracle Contract Reference Script` is required if the Oracle Contract reaches its deadline. For further details about the Wolfram Oracle Contract, please refer to the [Milestone One](https://github.com/WolframBlockchainLabs/MarloweSC-Execution/blob/106df96739fe7dd955bc101e0c58929414768f77/MilestoneOne/WolframOracleContract.ipynb) of this proposal.\n",
    "\n",
    "## 4. Demonstration case <a name=\"demonstrationCase\"></a>\n",
    "\n",
    "This demonstration features a simple contract that receives an ADA amount, takes input from the oracle, and splits the initial amount based on the oracle's input.\n",
    "\n",
    "### Contract design\n",
    "\n",
    "Using the Marlowe logic blocks, the workflow would be like this. \n",
    "\n",
    "* Start of the contract\n",
    "\n",
    "* User deposits 25 Ada (25000000 lovelace) to their account\n",
    "\n",
    "* The oracle provides the price of BTC/USDT as a choice\n",
    "\n",
    "* User inputs a \"True\" notification\n",
    "\n",
    "* The contract uses the oracle input to split the 25 ada in two amounts, one with `n` lovelace and the other with `25000000-n` lovelace, both payed to the same address\n",
    "\n",
    "* Contract closes\n",
    "\n",
    "In blockly format the contract looks like this:\n",
    "\n",
    "![blockMarloweContract](./img/marloweContractHD.png)\n",
    "\n",
    "You can check this contract on the [Marlowe Playground](https://playground.marlowe-lang.org/#/importContract?marlowe-view=editor&contract=N4Ig7gFgpgdiBcBtUAXad6krByRp03HV1RKJQHsBrQ1G2AfRgEMBbKBEEAGhAGMArgCdhsfgE9GAZwlsARpQA2XEAF8%2BVBKAAOLYSgnaQLACamx06VzMXGKKNJQBGAG7ChAVh0BOAGYAzABsAObCEoIsUADsYABeMBAAHhIhngAcYEn%2BkiyCEgCOwoJxKOlQ-AAs6XH8KAWFnipqGvjkAkqU0px8ekZErixKglCMlH6M-BCUAJb8nERTs-NjYDBQwsa2ltbwJubC9o4urgUAVukiphFJ1BIQPp5JAa4ADPeClVB%2BKOaCNfx%2BAEAEyVEJxMABHxBfjA9KuEL8MARMLqPhLOajVgcLiUYQsfhKKAAAgx83UrT8wkobEYBP4lEEMBQWwOjl2%2BzsDicbg8gm8-mCYQiUViCWSqQyWRyEjyhWKpXKVQB9UazVa-BY3WMMEoKBmfikBoQKGKUBaAF1NDMOIyUJNKMyZjBIvrHVxCV0evgbVA7QhnNFgUFXtFoiDnD50tENVqFqA-HjJtNMcYyaNKGsNqyLOybAcjjzThcrjc7g8ni93hBPt9fqZ-rUgaDwZDobD4YjkYJURqUytsQsQHiCUTSf3OH3KF7GPIoCgwFBCHgtPBgZ5Xput3wqTSA2oLZbrbbBPaGU6XSw3RgOl7eD6Tyz4IHg6Ggz4fFCfLHtUQ9AZ%2BlAbY8z2bZCxOPkBUCUJwkiGJ4kSFI0kybI-FyfIihKMoKmqWpVQKJo0WHCYqFoDB6DI5h2CHe8hFEcQpFkBRlFUVpnSoOlAUZZkcx2fMuWOXkvF8aDhTgsVEMlFCZTlTDFRwlUGgI5o%2BFMKAdC6GYUF2dcty3I8Hz9U8HQvV0ZndPZPW1Y8jKfF8QzDOFKlBAI1CAA)."
   ]
  },
  {
   "cell_type": "markdown",
   "id": "3f49c3a2",
   "metadata": {},
   "source": [
    "## 5. Transaction execution <a name=\"transactionExecution\"></a>\n",
    "\n",
    "## Initialization  <a name=\"initialization\"></a>\n",
    "### Environment and versions\n",
    "Standard tools from *[Marlowe starter kit](https://github.com/input-output-hk/marlowe-starter-kit/tree/main)*. Notice the use of the \"preprod\" testnet. "
   ]
  },
  {
   "cell_type": "code",
   "execution_count": 2,
   "id": "6b9c2f14",
   "metadata": {
    "scrolled": false
   },
   "outputs": [
    {
     "name": "stdout",
     "output_type": "stream",
     "text": [
      "########################\n",
      "## Check CLI commands ##\n",
      "########################\n",
      "\n",
      "The following required programs are available in the shell:\n",
      "  * jq\n",
      "  * json2yaml\n",
      "  * marlowe-cli\n",
      "  * marlowe-runtime-cli\n",
      "  * cardano-cli\n",
      "  * cardano-address\n",
      "  * cardano-wallet\n",
      "\n",
      "#########################\n",
      "## Check required envs ##\n",
      "#########################\n",
      "\n",
      "The following environment variables are available in the shell:\n",
      "  * CARDANO_NODE_SOCKET_PATH = /ipc/node.socket\n",
      "  * MARLOWE_RT_HOST = proxy\n",
      "  * MARLOWE_RT_PORT = 3700\n",
      "  * MARLOWE_RT_WEBSERVER_HOST = web-server\n",
      "  * MARLOWE_RT_WEBSERVER_PORT = 3780\n",
      "  * MARLOWE_RT_WEBSERVER_URL = http://web-server:3780\n",
      "\n",
      "###################\n",
      "## Check Network ##\n",
      "###################\n",
      "\n",
      "The NETWORK is set to preprod\n",
      "CARDANO_TESTNET_MAGIC = 1\n",
      "CARDANO_SCAN_URL = https://preprod.cardanoscan.io\n",
      "MARLOWE_SCAN_URL = https://preprod.marlowescan.com\n"
     ]
    }
   ],
   "source": [
    "source ../../../scripts/check-tools-and-env.sh"
   ]
  },
  {
   "cell_type": "markdown",
   "id": "a4b858cb",
   "metadata": {},
   "source": [
    "The versions used to execute transactions are:"
   ]
  },
  {
   "cell_type": "code",
   "execution_count": 2,
   "id": "b654e661",
   "metadata": {
    "scrolled": true
   },
   "outputs": [
    {
     "name": "stdout",
     "output_type": "stream",
     "text": [
      "marlowe-cli 0.2.0.0\n",
      "cardano-cli 8.1.2 - linux-x86_64 - ghc-8.10\n",
      "git rev d2d90b48c5577b4412d5c9c9968b55f8ab4b9767\n"
     ]
    }
   ],
   "source": [
    "marlowe-cli --version\n",
    "cardano-cli --version"
   ]
  },
  {
   "cell_type": "markdown",
   "id": "9d58297c",
   "metadata": {},
   "source": [
    "### Utilities\n",
    "\n",
    "Function to select a UTXO based on a minimun quantity."
   ]
  },
  {
   "cell_type": "code",
   "execution_count": 3,
   "id": "1b8f4574",
   "metadata": {},
   "outputs": [],
   "source": [
    "function select_utxo {\n",
    "marlowe-cli util select \\\n",
    "  --testnet-magic 1 \\\n",
    "  --lovelace-only \"$1\" \\\n",
    "  \"$PAYMENT_ADDR\" \\\n",
    "| sed -n -e 's/^TxIn \"\\(.*\\)\" (TxIx \\(.*\\))$/\\1#\\2/;1p'\n",
    "}"
   ]
  },
  {
   "cell_type": "code",
   "execution_count": 4,
   "id": "f2174f83",
   "metadata": {},
   "outputs": [],
   "source": [
    "function select_utxo_oracle {\n",
    "marlowe-cli util select \\\n",
    "  --testnet-magic 1 \\\n",
    "  --lovelace-only \"$1\" \\\n",
    "  \"$ORACLE_ADDR\" \\\n",
    "| sed -n -e 's/^TxIn \"\\(.*\\)\" (TxIx \\(.*\\))$/\\1#\\2/;1p'\n",
    "}"
   ]
  },
  {
   "cell_type": "markdown",
   "id": "3c53c90d",
   "metadata": {},
   "source": [
    "### Credentials\n",
    "\n",
    "Load and store keys and address for the user in the `PAYMENT_SKEY` and `PAYMENT_ADDR` variables. \n",
    "\n",
    "The Oracle Signing Address mentioned in section \"Oracle information\" is stored in the `ORACLE_SIGN_ADDR`."
   ]
  },
  {
   "cell_type": "code",
   "execution_count": 5,
   "id": "7ab42c27",
   "metadata": {},
   "outputs": [
    {
     "name": "stdout",
     "output_type": "stream",
     "text": [
      "PAYMENT_ADDR=addr_test1vrcu5p9f36gryuae7wznhxyg58wx9fcyauyqruzt8ec48zctqyq5l\n"
     ]
    }
   ],
   "source": [
    "#PAYMENT_ADDR is the user address\n",
    "export KEYS=./credentials\n",
    "PAYMENT_SKEY=$KEYS/lender.skey\n",
    "PAYMENT_ADDR=$(cat $KEYS/lender.address)\n",
    "echo \"PAYMENT_ADDR=$PAYMENT_ADDR\""
   ]
  },
  {
   "cell_type": "code",
   "execution_count": 5,
   "id": "7ab22f87",
   "metadata": {},
   "outputs": [
    {
     "name": "stdout",
     "output_type": "stream",
     "text": [
      "ORACLE_SIGN_ADDR=addr_test1vqj8urdyuxkyh95x3v0yhu4eftddu8zcc324gzw396c28vgcwyugr\n"
     ]
    }
   ],
   "source": [
    "ORACLE_SIGN_ADDR=addr_test1vqj8urdyuxkyh95x3v0yhu4eftddu8zcc324gzw396c28vgcwyugr\n",
    "echo \"ORACLE_SIGN_ADDR=$ORACLE_SIGN_ADDR\""
   ]
  },
  {
   "cell_type": "markdown",
   "id": "aa41e176",
   "metadata": {},
   "source": [
    "### Constants\n",
    "Ada to Lovelace equivalence"
   ]
  },
  {
   "cell_type": "code",
   "execution_count": 7,
   "id": "f3609734",
   "metadata": {},
   "outputs": [],
   "source": [
    "ADA=1000000"
   ]
  },
  {
   "cell_type": "markdown",
   "id": "9156657a",
   "metadata": {},
   "source": [
    "### POSIX Milliseconds and Slots\n",
    "\n",
    "Constants to calculate validity intervals for Marlowe transactions."
   ]
  },
  {
   "cell_type": "code",
   "execution_count": 8,
   "id": "d0ada7f0",
   "metadata": {},
   "outputs": [
    {
     "name": "stdout",
     "output_type": "stream",
     "text": [
      "SLOT_LENGTH = 1000\n",
      "SLOT_ZERO_TIME = 1655683200000\n"
     ]
    }
   ],
   "source": [
    "SLOT_LENGTH=$(marlowe-cli util slotting --testnet-magic 1| jq -r .scSlotLength)\n",
    "SLOT_ZERO_TIME=$(marlowe-cli util slotting --testnet-magic 1| jq -r .scSlotZeroTime)\n",
    "echo \"SLOT_LENGTH = $SLOT_LENGTH\"\n",
    "echo \"SLOT_ZERO_TIME = $SLOT_ZERO_TIME\""
   ]
  },
  {
   "cell_type": "markdown",
   "id": "176dd9e7",
   "metadata": {},
   "source": [
    "### Marlowe Validator Address\n",
    "Storing Marlowe Semantics Validator address and reference script UTXO into variables."
   ]
  },
  {
   "cell_type": "code",
   "execution_count": 10,
   "id": "391e2864",
   "metadata": {},
   "outputs": [
    {
     "name": "stdout",
     "output_type": "stream",
     "text": [
      "addr_test1wpsz02qpp3245nwkkzyg9wye7je3vlrwg5jqgufjyqkanpqef22lm\n",
      "\n",
      "Validator hash: \"6027a8010c555a4dd6b08882b899f4b3167c6e4524047132202dd984\"\n"
     ]
    }
   ],
   "source": [
    "marlowe-cli contract validator \\\n",
    "  --testnet-magic 1 \\\n",
    "  --out-file /dev/null \\\n",
    "  --print-hash"
   ]
  },
  {
   "cell_type": "code",
   "execution_count": 11,
   "id": "eaf20af7",
   "metadata": {},
   "outputs": [
    {
     "name": "stdout",
     "output_type": "stream",
     "text": [
      "MARLOWE_ADDR = addr_test1wpsz02qpp3245nwkkzyg9wye7je3vlrwg5jqgufjyqkanpqef22lm\n"
     ]
    }
   ],
   "source": [
    "MARLOWE_ADDR=$(marlowe-cli contract address --testnet-magic 1 )\n",
    "echo \"MARLOWE_ADDR = $MARLOWE_ADDR\""
   ]
  },
  {
   "cell_type": "code",
   "execution_count": 12,
   "id": "7f9a2be5",
   "metadata": {},
   "outputs": [
    {
     "name": "stdout",
     "output_type": "stream",
     "text": [
      "6887579ed3f0e34e6f6949a0827b19b6d0ab7895e4e7f6049985548cc2a76095#1\n"
     ]
    }
   ],
   "source": [
    "UTXO_MARLOWE_SCRIPT=$(\n",
    "marlowe-cli transaction find-published \\\n",
    "  --testnet-magic 1 \\\n",
    "  2> /dev/null \\\n",
    "| jq -r .marlowe.txIn\n",
    ")\n",
    "echo $UTXO_MARLOWE_SCRIPT"
   ]
  },
  {
   "cell_type": "markdown",
   "id": "bc9b65a7",
   "metadata": {},
   "source": [
    "## Marlowe contract preparation <a name=\"preparation\"></a>\n",
    "\n",
    "### Initial Contract\n",
    "\n",
    "Following the design specified before.\n",
    "\n",
    "```haskell\n",
    "When\n",
    "    [Case\n",
    "        (Deposit\n",
    "            (Address \"addr_test1vrcu5p9f36gryuae7wznhxyg58wx9fcyauyqruzt8ec48zctqyq5l\")\n",
    "            (Address \"addr_test1vrcu5p9f36gryuae7wznhxyg58wx9fcyauyqruzt8ec48zctqyq5l\")\n",
    "            (Token \"\" \"\")\n",
    "            (Constant 25000000)\n",
    "        )\n",
    "        (When\n",
    "            [Case\n",
    "                (Choice\n",
    "                    (ChoiceId\n",
    "                        \"oracle choice\"\n",
    "                        (Address \"addr_test1vqj8urdyuxkyh95x3v0yhu4eftddu8zcc324gzw396c28vgcwyugr\")\n",
    "                    )\n",
    "                    [Bound 1 25000000]\n",
    "                )\n",
    "                (When\n",
    "                    [Case\n",
    "                        (Notify TrueObs )\n",
    "                        (Pay\n",
    "                            (Address \"addr_test1vrcu5p9f36gryuae7wznhxyg58wx9fcyauyqruzt8ec48zctqyq5l\")\n",
    "                            (Party (Address \"addr_test1vrcu5p9f36gryuae7wznhxyg58wx9fcyauyqruzt8ec48zctqyq5l\"))\n",
    "                            (Token \"\" \"\")\n",
    "                            (ChoiceValue\n",
    "                                (ChoiceId\n",
    "                                    \"oracle choice\"\n",
    "                                    (Address \"addr_test1vqj8urdyuxkyh95x3v0yhu4eftddu8zcc324gzw396c28vgcwyugr\")\n",
    "                                ))\n",
    "                            Close \n",
    "                        )]\n",
    "                    1726077321987 Close \n",
    "                )]\n",
    "            1726077299399 Close \n",
    "        )]\n",
    "    1726077284243 Close \n",
    "```\n"
   ]
  },
  {
   "cell_type": "markdown",
   "id": "f7443516",
   "metadata": {},
   "source": [
    "### Contract\n",
    "Definition of deadlines for each input in the contract and create the .contract file. Notice that the `choice owner` in line 25 is the `ORACLE_SIGN_ADDR` variable declared above."
   ]
  },
  {
   "cell_type": "code",
   "execution_count": 13,
   "id": "f538a4b1",
   "metadata": {},
   "outputs": [],
   "source": [
    "PAYMENT_DEADLINE=$((1000 * $(date -d \"$(date -u) + 8 days\" +%s))) #deadline\n",
    "CHOICE_DEADLINE=$((1000 * $(date -d \"$(date -u) + 9 days\" +%s))) #deadline\n",
    "NOTIFY_DEADLINE=$((1000 * $(date -d \"$(date -u) + 10 days\" +%s))) #deadline"
   ]
  },
  {
   "cell_type": "code",
   "execution_count": 14,
   "id": "806d7968",
   "metadata": {},
   "outputs": [
    {
     "name": "stdout",
     "output_type": "stream",
     "text": [
      "timeout: 1725145631000\n",
      "timeout_continuation: close\n",
      "when:\n",
      "- case:\n",
      "    deposits: 25000000\n",
      "    into_account:\n",
      "      address: addr_test1vrcu5p9f36gryuae7wznhxyg58wx9fcyauyqruzt8ec48zctqyq5l\n",
      "    of_token:\n",
      "      currency_symbol: ''\n",
      "      token_name: ''\n",
      "    party:\n",
      "      address: addr_test1vrcu5p9f36gryuae7wznhxyg58wx9fcyauyqruzt8ec48zctqyq5l\n",
      "  then:\n",
      "    timeout: 1725232031000\n",
      "    timeout_continuation: close\n",
      "    when:\n",
      "    - case:\n",
      "        choose_between:\n",
      "        - from: 1\n",
      "          to: 25000000\n",
      "        for_choice:\n",
      "          choice_name: oracle input\n",
      "          choice_owner:\n",
      "            address: addr_test1vqj8urdyuxkyh95x3v0yhu4eftddu8zcc324gzw396c28vgcwyugr\n",
      "      then:\n",
      "        timeout: 1725318431000\n",
      "        timeout_continuation: close\n",
      "        when:\n",
      "        - case:\n",
      "            notify_if: true\n",
      "          then:\n",
      "            from_account:\n",
      "              address: addr_test1vrcu5p9f36gryuae7wznhxyg58wx9fcyauyqruzt8ec48zctqyq5l\n",
      "            pay:\n",
      "              value_of_choice:\n",
      "                choice_name: oracle input\n",
      "                choice_owner:\n",
      "                  address: addr_test1vqj8urdyuxkyh95x3v0yhu4eftddu8zcc324gzw396c28vgcwyugr\n",
      "            then: close\n",
      "            to:\n",
      "              party:\n",
      "                address: addr_test1vrcu5p9f36gryuae7wznhxyg58wx9fcyauyqruzt8ec48zctqyq5l\n",
      "            token:\n",
      "              currency_symbol: ''\n",
      "              token_name: ''\n"
     ]
    }
   ],
   "source": [
    "yaml2json << EOI > tx-1.contract\n",
    "timeout: $PAYMENT_DEADLINE\n",
    "timeout_continuation: close\n",
    "when:\n",
    "- case:\n",
    "    deposits: 25000000\n",
    "    into_account:\n",
    "      address: $PAYMENT_ADDR\n",
    "    of_token:\n",
    "      currency_symbol: ''\n",
    "      token_name: ''\n",
    "    party:\n",
    "      address: $PAYMENT_ADDR\n",
    "  then:\n",
    "    timeout: $CHOICE_DEADLINE\n",
    "    timeout_continuation: close\n",
    "    when:\n",
    "    - case:\n",
    "        choose_between:\n",
    "        - from: 1\n",
    "          to: 25000000\n",
    "        for_choice:\n",
    "          choice_name: oracle input\n",
    "          choice_owner:\n",
    "            address: $ORACLE_SIGN_ADDR\n",
    "      then:\n",
    "        timeout: $NOTIFY_DEADLINE\n",
    "        timeout_continuation: close\n",
    "        when:\n",
    "        - case:\n",
    "            notify_if: true\n",
    "          then:\n",
    "            from_account:\n",
    "              address: $PAYMENT_ADDR\n",
    "            pay:\n",
    "              value_of_choice:\n",
    "                choice_name: oracle input\n",
    "                choice_owner:\n",
    "                  address: $ORACLE_ADDR\n",
    "            then: close\n",
    "            to:\n",
    "              party:\n",
    "                address: $PAYMENT_ADDR\n",
    "            token:\n",
    "              currency_symbol: ''\n",
    "              token_name: ''\n",
    "EOI\n",
    "json2yaml tx-1.contract"
   ]
  },
  {
   "cell_type": "markdown",
   "id": "4d69c7da",
   "metadata": {},
   "source": [
    "### State\n",
    "\n",
    "Creation of initial state for the contract."
   ]
  },
  {
   "cell_type": "code",
   "execution_count": 15,
   "id": "8b8c97c1",
   "metadata": {},
   "outputs": [],
   "source": [
    "INITIAL_LOVELACE=$((3 * ADA))"
   ]
  },
  {
   "cell_type": "code",
   "execution_count": 16,
   "id": "45f5bd1c",
   "metadata": {
    "scrolled": true
   },
   "outputs": [
    {
     "name": "stdout",
     "output_type": "stream",
     "text": [
      "{\"accounts\":[[[{\"address\":\"addr_test1vrcu5p9f36gryuae7wznhxyg58wx9fcyauyqruzt8ec48zctqyq5l\"},{\"currency_symbol\":\"\",\"token_name\":\"\"}],3000000]],\"boundValues\":[],\"choices\":[],\"minTime\":1}\n"
     ]
    }
   ],
   "source": [
    "yaml2json << EOI > tx-1.state\n",
    "accounts:\n",
    "- - - address: $PAYMENT_ADDR\n",
    "    - currency_symbol: ''\n",
    "      token_name: ''\n",
    "  - $INITIAL_LOVELACE\n",
    "boundValues: []\n",
    "choices: []\n",
    "minTime: 1\n",
    "EOI\n",
    "cat tx-1.state"
   ]
  },
  {
   "cell_type": "markdown",
   "id": "a89e3bba",
   "metadata": {},
   "source": [
    "## Transaction 1: Marlowe Contract Creation <a name=\"transactionOne\"></a>\n",
    "\n",
    "The transactions are constructed manually. Datums and redeemers will be created using marlowe-cli."
   ]
  },
  {
   "cell_type": "code",
   "execution_count": 17,
   "id": "05bf96cf",
   "metadata": {},
   "outputs": [],
   "source": [
    "marlowe-cli run initialize \\\n",
    "  --testnet-magic 1 \\\n",
    "  --contract-file tx-1.contract \\\n",
    "  --state-file tx-1.state \\\n",
    "  --out-file tx-1.marlowe"
   ]
  },
  {
   "cell_type": "code",
   "execution_count": 18,
   "id": "30772a43",
   "metadata": {},
   "outputs": [
    {
     "name": "stdout",
     "output_type": "stream",
     "text": [
      "a951e7c73680e7d2dbee6752d043a8a90c02fe15a72871fe91a1595e57ac739e\n"
     ]
    }
   ],
   "source": [
    "marlowe-cli contract datum \\\n",
    "  --contract-file tx-1.contract \\\n",
    "  --state-file tx-1.state \\\n",
    "  --out-file tx-1.datum"
   ]
  },
  {
   "cell_type": "code",
   "execution_count": 19,
   "id": "bced7bbe",
   "metadata": {
    "scrolled": true
   },
   "outputs": [
    {
     "name": "stdout",
     "output_type": "stream",
     "text": [
      "TX_1_IN = 0b17eed121c4168a7ded8c66520be823954eeb2f14e465185bb0fdc2f71c6a3e#2\n"
     ]
    }
   ],
   "source": [
    "#we select the first input manually.\n",
    "TX_1_IN=\"$(select_utxo $((100 * ADA)))\"\n",
    "echo \"TX_1_IN = $TX_1_IN\""
   ]
  },
  {
   "cell_type": "markdown",
   "id": "b8f956b3",
   "metadata": {},
   "source": [
    "Build and submit the contract creation transaction."
   ]
  },
  {
   "cell_type": "code",
   "execution_count": 20,
   "id": "c59e974b",
   "metadata": {},
   "outputs": [
    {
     "name": "stdout",
     "output_type": "stream",
     "text": [
      "Estimated transaction fee: Lovelace 192429\n"
     ]
    }
   ],
   "source": [
    "cardano-cli transaction build \\\n",
    "  --babbage-era \\\n",
    "  --testnet-magic 1 \\\n",
    "  --tx-in $TX_1_IN \\\n",
    "  --tx-out \"$MARLOWE_ADDR+$INITIAL_LOVELACE\" \\\n",
    "    --tx-out-datum-embed-file tx-1.datum \\\n",
    "  --change-address $PAYMENT_ADDR \\\n",
    "  --out-file tx-1.unsigned"
   ]
  },
  {
   "cell_type": "code",
   "execution_count": 21,
   "id": "14b677b6",
   "metadata": {},
   "outputs": [],
   "source": [
    "cardano-cli transaction sign \\\n",
    "  --signing-key-file $PAYMENT_SKEY \\\n",
    "  --tx-body-file tx-1.unsigned \\\n",
    "  --out-file tx-1.signed"
   ]
  },
  {
   "cell_type": "code",
   "execution_count": 22,
   "id": "29fde9c5",
   "metadata": {},
   "outputs": [
    {
     "name": "stdout",
     "output_type": "stream",
     "text": [
      "TX_1 = 03ada6af2b4644d1c59f5fbfb899869f2a4fc8eea6381f6609c9ceeb7e9c6409\n"
     ]
    }
   ],
   "source": [
    "TX_1=$(cardano-cli transaction txid --tx-file tx-1.signed)\n",
    "echo \"TX_1 = $TX_1\""
   ]
  },
  {
   "cell_type": "code",
   "execution_count": 23,
   "id": "5039e766",
   "metadata": {},
   "outputs": [
    {
     "name": "stdout",
     "output_type": "stream",
     "text": [
      "Transaction successfully submitted.\n"
     ]
    }
   ],
   "source": [
    "cardano-cli transaction submit \\\n",
    "  --testnet-magic 1 \\\n",
    "  --tx-file tx-1.signed"
   ]
  },
  {
   "cell_type": "code",
   "execution_count": 24,
   "id": "107e2a77",
   "metadata": {
    "scrolled": true
   },
   "outputs": [
    {
     "name": "stdout",
     "output_type": "stream",
     "text": [
      "https://preprod.cardanoscan.io/transaction/03ada6af2b4644d1c59f5fbfb899869f2a4fc8eea6381f6609c9ceeb7e9c6409?tab=summary\n"
     ]
    }
   ],
   "source": [
    "echo \"$CARDANO_SCAN_URL/transaction/$TX_1?tab=summary\""
   ]
  },
  {
   "cell_type": "markdown",
   "id": "a877c830",
   "metadata": {},
   "source": [
    "## Transaction 2: Marlowe Deposit  <a name=\"transactionTwo\"></a>\n",
    "\n",
    "Executing the deposit transaction."
   ]
  },
  {
   "cell_type": "code",
   "execution_count": 25,
   "id": "5f263d31",
   "metadata": {},
   "outputs": [],
   "source": [
    "DEPOSIT_LOVELACE=$((25 * ADA))"
   ]
  },
  {
   "cell_type": "code",
   "execution_count": 26,
   "id": "9a8a4830",
   "metadata": {},
   "outputs": [
    {
     "name": "stdout",
     "output_type": "stream",
     "text": [
      "TX_2_INVALID_BEFORE = 1724454451000\n",
      "TX_2_INVALID_HEREAFTER = 1724454811000\n"
     ]
    }
   ],
   "source": [
    "TX_2_INVALID_BEFORE=$((1000 * ($(date -u +%s) - 60)))\n",
    "TX_2_INVALID_HEREAFTER=$((1000 * ($(date -u +%s) + 300)))\n",
    "echo \"TX_2_INVALID_BEFORE = $TX_2_INVALID_BEFORE\"\n",
    "echo \"TX_2_INVALID_HEREAFTER = $TX_2_INVALID_HEREAFTER\""
   ]
  },
  {
   "cell_type": "code",
   "execution_count": 27,
   "id": "51382bf5",
   "metadata": {},
   "outputs": [
    {
     "name": "stdout",
     "output_type": "stream",
     "text": [
      "SLOT_INIT= 68771251\n",
      "SLOT_END = 68771611\n"
     ]
    }
   ],
   "source": [
    "SLOT_INIT=$(((TX_2_INVALID_BEFORE - SLOT_ZERO_TIME) / SLOT_LENGTH))\n",
    "SLOT_END=$(((TX_2_INVALID_HEREAFTER - SLOT_ZERO_TIME) / SLOT_LENGTH))\n",
    "echo \"SLOT_INIT= $SLOT_INIT\"\n",
    "echo \"SLOT_END = $SLOT_END\""
   ]
  },
  {
   "cell_type": "code",
   "execution_count": 28,
   "id": "ad6ad79d",
   "metadata": {},
   "outputs": [
    {
     "name": "stdout",
     "output_type": "stream",
     "text": [
      "Rounding  `TransactionInput` txInterval boundaries to:(POSIXTime {getPOSIXTime = 1724454451000},POSIXTime {getPOSIXTime = 1724454811999})\n",
      "TransactionInput {txInterval = (POSIXTime {getPOSIXTime = 1724454451000},POSIXTime {getPOSIXTime = 1724454811999}), txInputs = [NormalInput (IDeposit \"\\\"addr_test1vrcu5p9f36gryuae7wznhxyg58wx9fcyauyqruzt8ec48zctqyq5l\\\"\" \"\\\"addr_test1vrcu5p9f36gryuae7wznhxyg58wx9fcyauyqruzt8ec48zctqyq5l\\\"\" (Token \"\" \"\") 25000000)]}\n"
     ]
    }
   ],
   "source": [
    "marlowe-cli run prepare \\\n",
    "  --deposit-account $PAYMENT_ADDR \\\n",
    "  --deposit-party $PAYMENT_ADDR \\\n",
    "  --deposit-amount $DEPOSIT_LOVELACE \\\n",
    "  --invalid-before $TX_2_INVALID_BEFORE \\\n",
    "  --invalid-hereafter $TX_2_INVALID_HEREAFTER \\\n",
    "  --marlowe-file tx-1.marlowe \\\n",
    "  --out-file tx-2.marlowe"
   ]
  },
  {
   "cell_type": "code",
   "execution_count": 29,
   "id": "f5794e36",
   "metadata": {},
   "outputs": [],
   "source": [
    "jq '.tx.inputs[0]' tx-2.marlowe > tx-2.inputs\n",
    "marlowe-cli contract redeemer \\\n",
    "  --input-file tx-2.inputs \\\n",
    "  --out-file tx-2.redeemer"
   ]
  },
  {
   "cell_type": "code",
   "execution_count": 30,
   "id": "f049e9c2",
   "metadata": {},
   "outputs": [
    {
     "name": "stdout",
     "output_type": "stream",
     "text": [
      "8da608b410358a1f5f0a5c77f4d8d5508cd96a6d4417aa185e549ae4d71f196c\n"
     ]
    }
   ],
   "source": [
    "jq .tx.contract tx-2.marlowe > tx-2.contract\n",
    "jq .tx.state tx-2.marlowe > tx-2.state\n",
    "marlowe-cli contract datum \\\n",
    "  --contract-file tx-2.contract \\\n",
    "  --state-file tx-2.state \\\n",
    "  --out-file tx-2.datum"
   ]
  },
  {
   "cell_type": "code",
   "execution_count": 31,
   "id": "9c157b2e",
   "metadata": {},
   "outputs": [
    {
     "name": "stdout",
     "output_type": "stream",
     "text": [
      "DEPOSIT_INPUT = 03ada6af2b4644d1c59f5fbfb899869f2a4fc8eea6381f6609c9ceeb7e9c6409#1\n"
     ]
    }
   ],
   "source": [
    "DEPOSIT_INPUT=\"$TX_1#1\"\n",
    "echo \"DEPOSIT_INPUT = $DEPOSIT_INPUT\""
   ]
  },
  {
   "cell_type": "markdown",
   "id": "d249d18b",
   "metadata": {},
   "source": [
    "Build and submit the deposit transaction."
   ]
  },
  {
   "cell_type": "code",
   "execution_count": 32,
   "id": "d8da1fc9",
   "metadata": {},
   "outputs": [
    {
     "name": "stdout",
     "output_type": "stream",
     "text": [
      "Estimated transaction fee: Lovelace 509095\n"
     ]
    }
   ],
   "source": [
    "cardano-cli transaction build \\\n",
    "  --babbage-era \\\n",
    "  --testnet-magic 1 \\\n",
    "  --tx-in-collateral \"$DEPOSIT_INPUT\" \\\n",
    "  --tx-in \"$DEPOSIT_INPUT\" \\\n",
    "  --tx-in \"$TX_1#0\" \\\n",
    "    --spending-tx-in-reference \"$UTXO_MARLOWE_SCRIPT\" \\\n",
    "    --spending-plutus-script-v2 \\\n",
    "    --spending-reference-tx-in-datum-file tx-1.datum \\\n",
    "    --spending-reference-tx-in-redeemer-file tx-2.redeemer \\\n",
    "  --tx-out \"$MARLOWE_ADDR+$((INITIAL_LOVELACE+DEPOSIT_LOVELACE))\" \\\n",
    "    --tx-out-datum-embed-file tx-2.datum \\\n",
    "  --change-address $PAYMENT_ADDR \\\n",
    "  --required-signer $PAYMENT_SKEY \\\n",
    "  --invalid-before $(((TX_2_INVALID_BEFORE - SLOT_ZERO_TIME) / SLOT_LENGTH)) \\\n",
    "  --invalid-hereafter $(((TX_2_INVALID_HEREAFTER - SLOT_ZERO_TIME) / SLOT_LENGTH)) \\\n",
    "  --out-file tx-2.unsigned"
   ]
  },
  {
   "cell_type": "code",
   "execution_count": 33,
   "id": "e0563359",
   "metadata": {},
   "outputs": [],
   "source": [
    "cardano-cli transaction sign \\\n",
    "  --signing-key-file $PAYMENT_SKEY \\\n",
    "  --tx-body-file tx-2.unsigned \\\n",
    "  --out-file tx-2.signed"
   ]
  },
  {
   "cell_type": "code",
   "execution_count": 34,
   "id": "43880ac5",
   "metadata": {},
   "outputs": [
    {
     "name": "stdout",
     "output_type": "stream",
     "text": [
      "TX_2 = cce4dda792104ab84bee1a68c799729bcaf634187994784e54a5f2055acf9c88\n"
     ]
    }
   ],
   "source": [
    "## this is the transaction that must be solved\n",
    "TX_2=$(cardano-cli transaction txid --tx-file tx-2.signed)\n",
    "echo \"TX_2 = $TX_2\""
   ]
  },
  {
   "cell_type": "code",
   "execution_count": 35,
   "id": "45de974e",
   "metadata": {},
   "outputs": [
    {
     "name": "stdout",
     "output_type": "stream",
     "text": [
      "Transaction successfully submitted.\n"
     ]
    }
   ],
   "source": [
    "cardano-cli transaction submit \\\n",
    "  --testnet-magic 1 \\\n",
    "  --tx-file tx-2.signed"
   ]
  },
  {
   "cell_type": "code",
   "execution_count": 36,
   "id": "841010c0",
   "metadata": {},
   "outputs": [
    {
     "name": "stdout",
     "output_type": "stream",
     "text": [
      "https://preprod.cardanoscan.io/transaction/cce4dda792104ab84bee1a68c799729bcaf634187994784e54a5f2055acf9c88?tab=summary\n"
     ]
    }
   ],
   "source": [
    "echo \"$CARDANO_SCAN_URL/transaction/$TX_2?tab=summary\""
   ]
  },
  {
   "cell_type": "markdown",
   "id": "020303e8",
   "metadata": {},
   "source": [
    "## Transaction 3: Oracle Updater Deployment  <a name=\"transactionThree\"></a>\n",
    "\n",
    "After the deposit is made, the contract awaits the oracle choice. This section shows the steps to perform the request.\n",
    "\n",
    "### Oracle Contract Address and Payment\n",
    "\n",
    "Store Oracle Contract address and define how much ADA it will hold as payment for the service."
   ]
  },
  {
   "cell_type": "code",
   "execution_count": 9,
   "id": "8f02b934",
   "metadata": {},
   "outputs": [
    {
     "name": "stdout",
     "output_type": "stream",
     "text": [
      "ORACLE_CONTRACT_ADDR=addr_test1wrs08u8kuqwnse0ahjdjr9ffq20d9vycwy4ns8re2y8sangc8djyc\n"
     ]
    }
   ],
   "source": [
    "ORACLE_CONTRACT_ADDR=addr_test1wrs08u8kuqwnse0ahjdjr9ffq20d9vycwy4ns8re2y8sangc8djyc\n",
    "echo \"ORACLE_CONTRACT_ADDR=$ORACLE_CONTRACT_ADDR\""
   ]
  },
  {
   "cell_type": "code",
   "execution_count": 38,
   "id": "41c8a0cb",
   "metadata": {},
   "outputs": [
    {
     "name": "stdout",
     "output_type": "stream",
     "text": [
      "ORACLE_PAYMENT=5000000\n"
     ]
    }
   ],
   "source": [
    "ORACLE_PAYMENT=$((5 * ADA))\n",
    "echo \"ORACLE_PAYMENT=$ORACLE_PAYMENT\""
   ]
  },
  {
   "cell_type": "markdown",
   "id": "d5a3a6b5",
   "metadata": {},
   "source": [
    "### Create \"oracle.datum\" File  "
   ]
  },
  {
   "cell_type": "code",
   "execution_count": 39,
   "id": "8d8d0bba",
   "metadata": {},
   "outputs": [
    {
     "name": "stdout",
     "output_type": "stream",
     "text": [
      "MRLW_ID=03ada6af2b4644d1c59f5fbfb899869f2a4fc8eea6381f6609c9ceeb7e9c6409\n",
      "MRLW_IDX=0\n"
     ]
    }
   ],
   "source": [
    "MRLW_ID=$TX_1\n",
    "MRLW_IDX=0\n",
    "echo \"MRLW_ID=$MRLW_ID\"\n",
    "echo \"MRLW_IDX=$MRLW_IDX\""
   ]
  },
  {
   "cell_type": "code",
   "execution_count": 40,
   "id": "c1d16719",
   "metadata": {},
   "outputs": [
    {
     "name": "stdout",
     "output_type": "stream",
     "text": [
      "TX_ID=cce4dda792104ab84bee1a68c799729bcaf634187994784e54a5f2055acf9c88\n",
      "TX_IDX=0\n",
      "ORACLE_DL=1724459986000\n"
     ]
    }
   ],
   "source": [
    "TX_ID=$TX_2 #tx to be solved\n",
    "TX_IDX=0    #index to be solved\n",
    "ORACLE_DL=$((1000 * $(date -d \"$(date -u) + 90 minutes\" +%s))) #deadline to apply choice before refund\n",
    "echo \"TX_ID=$TX_ID\"\n",
    "echo \"TX_IDX=$TX_IDX\"\n",
    "echo \"ORACLE_DL=$ORACLE_DL\""
   ]
  },
  {
   "cell_type": "code",
   "execution_count": 41,
   "id": "06d3745b",
   "metadata": {},
   "outputs": [
    {
     "name": "stdout",
     "output_type": "stream",
     "text": [
      "{\"constructor\":0,\"fields\":[{\"constructor\":0,\"fields\":[{\"bytes\":\"03ada6af2b4644d1c59f5fbfb899869f2a4fc8eea6381f6609c9ceeb7e9c6409\"}]},{\"int\":0},{\"constructor\":0,\"fields\":[{\"bytes\":\"cce4dda792104ab84bee1a68c799729bcaf634187994784e54a5f2055acf9c88\"}]},{\"int\":0},{\"bytes\":\"6f7261636c6520696e707574\"},{\"bytes\":\"4254432F55534454\"},{\"int\":1724459986000},{\"bytes\":\"f1ca04a98e903273b9f3853b9888a1dc62a704ef0801f04b3e71538b\"}]}\n"
     ]
    }
   ],
   "source": [
    "yaml2json << EOI > wolframOracleUpdater.datum\n",
    "constructor: 0\n",
    "fields:\n",
    "- constructor: 0\n",
    "  fields:\n",
    "  - bytes: \"$MRLW_ID\"\n",
    "- int: $MRLW_IDX\n",
    "- constructor: 0\n",
    "  fields:\n",
    "  - bytes: \"$TX_ID\"\n",
    "- int: $TX_IDX\n",
    "- bytes: \"6f7261636c6520696e707574\" #oracle input\n",
    "- bytes: \"4254432F55534454\" #\"414441555344\"             #BTC/USDT #adausd \"(ADAUSD + ADAPEN + ADACYN)/3\"\n",
    "- int: $ORACLE_DL\n",
    "- bytes: \"f1ca04a98e903273b9f3853b9888a1dc62a704ef0801f04b3e71538b\"\n",
    "EOI\n",
    "cat wolframOracleUpdater.datum"
   ]
  },
  {
   "cell_type": "markdown",
   "id": "4e4866f8",
   "metadata": {},
   "source": [
    "### Build Transaction\n",
    "\n",
    "Build and submit the Oracle Contract creation transaction."
   ]
  },
  {
   "cell_type": "code",
   "execution_count": 42,
   "id": "50539f3d",
   "metadata": {
    "scrolled": true
   },
   "outputs": [
    {
     "name": "stdout",
     "output_type": "stream",
     "text": [
      "0b17eed121c4168a7ded8c66520be823954eeb2f14e465185bb0fdc2f71c6a3e#0\n"
     ]
    }
   ],
   "source": [
    "ORACLE_INPUT=\"$(select_utxo $((5 * ADA)))\"\n",
    "echo $ORACLE_INPUT"
   ]
  },
  {
   "cell_type": "code",
   "execution_count": 43,
   "id": "028e478c",
   "metadata": {},
   "outputs": [
    {
     "name": "stdout",
     "output_type": "stream",
     "text": [
      "Estimated transaction fee: Lovelace 175269\n"
     ]
    }
   ],
   "source": [
    "cardano-cli transaction build \\\n",
    "  --babbage-era \\\n",
    "  --testnet-magic 1 \\\n",
    "  --tx-in \"$ORACLE_INPUT\" \\\n",
    "  --tx-out \"$ORACLE_CONTRACT_ADDR+$ORACLE_PAYMENT\" \\\n",
    "    --tx-out-datum-embed-file wolframOracleUpdater.datum \\\n",
    "  --change-address $PAYMENT_ADDR \\\n",
    "  --out-file tx-3.unsigned"
   ]
  },
  {
   "cell_type": "code",
   "execution_count": 44,
   "id": "53b4a427",
   "metadata": {},
   "outputs": [],
   "source": [
    "cardano-cli transaction sign \\\n",
    "  --signing-key-file $PAYMENT_SKEY \\\n",
    "  --tx-body-file tx-3.unsigned \\\n",
    "  --out-file tx-3.signed"
   ]
  },
  {
   "cell_type": "code",
   "execution_count": 45,
   "id": "69f2b76d",
   "metadata": {
    "scrolled": true
   },
   "outputs": [
    {
     "name": "stdout",
     "output_type": "stream",
     "text": [
      "TX_3 = e12e1bf1ca617ba547fae01df059c3e96cf9ac6265887c1d5c49797599a22234\n"
     ]
    }
   ],
   "source": [
    "TX_3=$(cardano-cli transaction txid --tx-file tx-3.signed)\n",
    "echo \"TX_3 = $TX_3\""
   ]
  },
  {
   "cell_type": "code",
   "execution_count": 46,
   "id": "2c85209c",
   "metadata": {},
   "outputs": [
    {
     "name": "stdout",
     "output_type": "stream",
     "text": [
      "Transaction successfully submitted.\n"
     ]
    }
   ],
   "source": [
    "cardano-cli transaction submit \\\n",
    "  --testnet-magic 1 \\\n",
    "  --tx-file tx-3.signed"
   ]
  },
  {
   "cell_type": "code",
   "execution_count": 47,
   "id": "552b8d25",
   "metadata": {
    "scrolled": false
   },
   "outputs": [
    {
     "name": "stdout",
     "output_type": "stream",
     "text": [
      "https://preprod.cardanoscan.io/transaction/e12e1bf1ca617ba547fae01df059c3e96cf9ac6265887c1d5c49797599a22234?tab=summary\n"
     ]
    }
   ],
   "source": [
    "echo \"$CARDANO_SCAN_URL/transaction/$TX_3?tab=summary\""
   ]
  },
  {
   "cell_type": "markdown",
   "id": "e3dd355c",
   "metadata": {},
   "source": [
    "## Transaction 4: Oracle Transaction\n",
    "\n",
    "The Wolfram Oracle Harvester executes this transaction automatically. The variable `TX_4` stores the Transaction ID of the Oracle transaction for further use. The transaction can be checked in the Cardano Scan."
   ]
  },
  {
   "cell_type": "code",
   "execution_count": 3,
   "id": "87fbe8a6",
   "metadata": {},
   "outputs": [
    {
     "name": "stdout",
     "output_type": "stream",
     "text": [
      "https://preprod.cardanoscan.io/transaction/780e2b30dc53b1d7b6e12d3f35f4758e446f9a8da25871eb190c39d238038530?tab=summary\n"
     ]
    }
   ],
   "source": [
    "# store Oracle transactionID\n",
    "TX_4=780e2b30dc53b1d7b6e12d3f35f4758e446f9a8da25871eb190c39d238038530\n",
    "echo \"$CARDANO_SCAN_URL/transaction/$TX_4?tab=summary\""
   ]
  },
  {
   "cell_type": "markdown",
   "id": "df9b05d0",
   "metadata": {},
   "source": [
    "## Transaction 5: Notify and Close Marlowe Contract  <a name=\"transactionFive\"></a>\n",
    "\n",
    "Closure of Marlowe contract with a `Notify` input."
   ]
  },
  {
   "cell_type": "code",
   "execution_count": 49,
   "id": "db9286dc",
   "metadata": {},
   "outputs": [
    {
     "name": "stdout",
     "output_type": "stream",
     "text": [
      "CHOICE = 15000000\n"
     ]
    }
   ],
   "source": [
    "CHOICE=$((15 * ADA))\n",
    "echo \"CHOICE = $CHOICE\""
   ]
  },
  {
   "cell_type": "code",
   "execution_count": 50,
   "id": "733cd624",
   "metadata": {},
   "outputs": [
    {
     "name": "stdout",
     "output_type": "stream",
     "text": [
      "TX_5_INVALID_BEFORE = 1724455455000\n",
      "TX_5_INVALID_HEREAFTER = 1724455815000\n"
     ]
    }
   ],
   "source": [
    "TX_5_INVALID_BEFORE=$((1000 * ($(date -u +%s) - 60)))\n",
    "TX_5_INVALID_HEREAFTER=$((1000 * ($(date -u +%s) + 300)))\n",
    "echo \"TX_5_INVALID_BEFORE = $TX_5_INVALID_BEFORE\"\n",
    "echo \"TX_5_INVALID_HEREAFTER = $TX_5_INVALID_HEREAFTER\""
   ]
  },
  {
   "cell_type": "markdown",
   "id": "7b2c5987",
   "metadata": {},
   "source": [
    "Since the transaction is built manually, the variables `CHOICE_FILE` and `DATUM_FILE` points to the files created by the oracle. If the transaction is constructed using the Marlowe Runtime backend, this step is not necessary."
   ]
  },
  {
   "cell_type": "code",
   "execution_count": 51,
   "id": "8bbf0aae",
   "metadata": {},
   "outputs": [
    {
     "name": "stdout",
     "output_type": "stream",
     "text": [
      "../../../Delphos/03ada6af2b4644d1c59f5fbfb899869f2a4fc8eea6381f6609c9ceeb7e9c6409#0/tx-next.marlowe\n",
      "../../../Delphos/03ada6af2b4644d1c59f5fbfb899869f2a4fc8eea6381f6609c9ceeb7e9c6409#0/marloweOutput.datum\n"
     ]
    }
   ],
   "source": [
    "CHOICE_FILE=\"../../../Delphos/$TX_1#0/tx-next.marlowe\"\n",
    "echo $CHOICE_FILE\n",
    "DATUM_FILE=\"../../../Delphos/$TX_1#0/marloweOutput.datum\"\n",
    "echo $DATUM_FILE"
   ]
  },
  {
   "cell_type": "code",
   "execution_count": 52,
   "id": "16e6cef2",
   "metadata": {},
   "outputs": [
    {
     "name": "stdout",
     "output_type": "stream",
     "text": [
      "Rounding  `TransactionInput` txInterval boundaries to:(POSIXTime {getPOSIXTime = 1724455455000},POSIXTime {getPOSIXTime = 1724455815999})\n",
      "TransactionInput {txInterval = (POSIXTime {getPOSIXTime = 1724455455000},POSIXTime {getPOSIXTime = 1724455815999}), txInputs = [NormalInput INotify]}\n"
     ]
    }
   ],
   "source": [
    "marlowe-cli run prepare \\\n",
    "  --notify \\\n",
    "  --invalid-before $TX_5_INVALID_BEFORE \\\n",
    "  --invalid-hereafter $TX_5_INVALID_HEREAFTER \\\n",
    "  --marlowe-file $CHOICE_FILE \\\n",
    "  --out-file tx-5.marlowe"
   ]
  },
  {
   "cell_type": "code",
   "execution_count": 53,
   "id": "1c28cf06",
   "metadata": {},
   "outputs": [],
   "source": [
    "jq '.tx.inputs[0]' tx-5.marlowe > tx-5.inputs\n",
    "marlowe-cli contract redeemer \\\n",
    "  --input-file tx-5.inputs \\\n",
    "  --out-file tx-5.redeemer"
   ]
  },
  {
   "cell_type": "code",
   "execution_count": 54,
   "id": "56232f9f",
   "metadata": {},
   "outputs": [
    {
     "name": "stdout",
     "output_type": "stream",
     "text": [
      "00d3b5410b431342b657642504cd65f08fe9f7ec396aac75eb25d812354bbb12\n"
     ]
    }
   ],
   "source": [
    "jq .tx.contract tx-5.marlowe > tx-5.contract\n",
    "jq .tx.state tx-5.marlowe > tx-5.state\n",
    "marlowe-cli contract datum \\\n",
    "  --contract-file tx-5.contract \\\n",
    "  --state-file tx-5.state \\\n",
    "  --out-file tx-5.datum"
   ]
  },
  {
   "cell_type": "code",
   "execution_count": 55,
   "id": "7b4c1715",
   "metadata": {},
   "outputs": [
    {
     "name": "stdout",
     "output_type": "stream",
     "text": [
      "NOTIFY_INPUT=cce4dda792104ab84bee1a68c799729bcaf634187994784e54a5f2055acf9c88#1\n"
     ]
    }
   ],
   "source": [
    "NOTIFY_INPUT=\"$(select_utxo $((100 * ADA)))\"\n",
    "echo \"NOTIFY_INPUT=$NOTIFY_INPUT\""
   ]
  },
  {
   "cell_type": "code",
   "execution_count": 56,
   "id": "f4b7f868",
   "metadata": {
    "scrolled": true
   },
   "outputs": [
    {
     "name": "stdout",
     "output_type": "stream",
     "text": [
      "addr_test1vrcu5p9f36gryuae7wznhxyg58wx9fcyauyqruzt8ec48zctqyq5l+13000000\n"
     ]
    }
   ],
   "source": [
    "echo \"$PAYMENT_ADDR+$((INITIAL_LOVELACE+DEPOSIT_LOVELACE-CHOICE))\""
   ]
  },
  {
   "cell_type": "code",
   "execution_count": 57,
   "id": "327709f5",
   "metadata": {},
   "outputs": [
    {
     "name": "stdout",
     "output_type": "stream",
     "text": [
      "Estimated transaction fee: Lovelace 455459\n"
     ]
    }
   ],
   "source": [
    "cardano-cli transaction build \\\n",
    "  --babbage-era \\\n",
    "  --testnet-magic 1 \\\n",
    "  --tx-in-collateral \"$NOTIFY_INPUT\" \\\n",
    "  --tx-in \"$NOTIFY_INPUT\" \\\n",
    "  --tx-in \"$TX_4#0\" \\\n",
    "    --spending-tx-in-reference \"$UTXO_MARLOWE_SCRIPT\" \\\n",
    "    --spending-plutus-script-v2 \\\n",
    "    --spending-reference-tx-in-datum-file $DATUM_FILE \\\n",
    "    --spending-reference-tx-in-redeemer-file tx-5.redeemer \\\n",
    "  --tx-out \"$PAYMENT_ADDR+$CHOICE\" \\\n",
    "  --tx-out \"$PAYMENT_ADDR+$((INITIAL_LOVELACE+DEPOSIT_LOVELACE-CHOICE))\" \\\n",
    "  --change-address $PAYMENT_ADDR \\\n",
    "  --required-signer $PAYMENT_SKEY \\\n",
    "  --invalid-before $(((TX_5_INVALID_BEFORE - SLOT_ZERO_TIME) / SLOT_LENGTH)) \\\n",
    "  --invalid-hereafter $(((TX_5_INVALID_HEREAFTER - SLOT_ZERO_TIME) / SLOT_LENGTH)) \\\n",
    "  --out-file tx-5.unsigned"
   ]
  },
  {
   "cell_type": "code",
   "execution_count": 58,
   "id": "9593f563",
   "metadata": {},
   "outputs": [],
   "source": [
    "cardano-cli transaction sign \\\n",
    "  --signing-key-file $PAYMENT_SKEY \\\n",
    "  --tx-body-file tx-5.unsigned \\\n",
    "  --out-file tx-5.signed"
   ]
  },
  {
   "cell_type": "code",
   "execution_count": 59,
   "id": "64a0fce7",
   "metadata": {},
   "outputs": [
    {
     "name": "stdout",
     "output_type": "stream",
     "text": [
      "TX_5 = 8d0f1202d7a667cf04ccf1da83463c4461f8bd0bca41656cb59c5a116c916219\n"
     ]
    }
   ],
   "source": [
    "TX_5=$(cardano-cli transaction txid --tx-file tx-5.signed)\n",
    "echo \"TX_5 = $TX_5\""
   ]
  },
  {
   "cell_type": "code",
   "execution_count": 60,
   "id": "c992a341",
   "metadata": {},
   "outputs": [
    {
     "name": "stdout",
     "output_type": "stream",
     "text": [
      "Transaction successfully submitted.\n"
     ]
    }
   ],
   "source": [
    "cardano-cli transaction submit \\\n",
    "  --testnet-magic 1 \\\n",
    "  --tx-file tx-5.signed"
   ]
  },
  {
   "cell_type": "code",
   "execution_count": 61,
   "id": "77691506",
   "metadata": {
    "scrolled": true
   },
   "outputs": [
    {
     "name": "stdout",
     "output_type": "stream",
     "text": [
      "https://preprod.cardanoscan.io/transaction/8d0f1202d7a667cf04ccf1da83463c4461f8bd0bca41656cb59c5a116c916219?tab=summary\n"
     ]
    }
   ],
   "source": [
    "echo \"$CARDANO_SCAN_URL/transaction/$TX_5?tab=summary\""
   ]
  }
 ],
 "metadata": {
  "kernelspec": {
   "display_name": "Bash with Marlowe Tools",
   "language": "bash",
   "name": "bash-minimal"
  },
  "language_info": {
   "codemirror_mode": "shell",
   "file_extension": ".sh",
   "mimetype": "text/x-sh",
   "name": "bash"
  }
 },
 "nbformat": 4,
 "nbformat_minor": 5
}
